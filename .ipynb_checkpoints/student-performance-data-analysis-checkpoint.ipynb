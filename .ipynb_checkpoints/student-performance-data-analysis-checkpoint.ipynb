{
 "cells": [
  {
   "cell_type": "markdown",
   "id": "262e8936-8d67-4f82-87e1-c26361f5377d",
   "metadata": {},
   "source": [
    "# Studdent Performance Analysis and Prediction #"
   ]
  },
  {
   "cell_type": "markdown",
   "id": "8516fe90-8726-4168-b6fc-d5f9dab4153c",
   "metadata": {},
   "source": [
    "### Thanking to SIT ICOE Hackathon 2024 for give us this opportunity ##"
   ]
  },
  {
   "cell_type": "markdown",
   "id": "b2ab74db-14d1-4439-afe4-634f4c0784a3",
   "metadata": {},
   "source": [
    "## Objectives ##\n",
    "In this notebook, we will  :\n",
    "\n",
    "- *Predict a student Grade will in final exam based on certain information given*\n",
    "- *Compare the two learning algorithms*\n",
    "- *Find the best algorithm with high accuracy*\n",
    "\n",
    "We will be using three learning algorithms:\n",
    "\n",
    "- *Lasso Regrassion*\n",
    "- *Linear Regrassion*"
   ]
  },
  {
   "cell_type": "markdown",
   "id": "d238ac66-e82d-4aa4-b25d-7e19cda0bf85",
   "metadata": {},
   "source": [
    "### import libraries ###"
   ]
  },
  {
   "cell_type": "code",
   "execution_count": 1,
   "id": "bd73937e",
   "metadata": {
    "papermill": {
     "duration": 1.505205,
     "end_time": "2023-08-06T14:36:25.745311",
     "exception": false,
     "start_time": "2023-08-06T14:36:24.240106",
     "status": "completed"
    },
    "tags": []
   },
   "outputs": [],
   "source": [
    "import pandas as pd\n",
    "import numpy as np\n",
    "import seaborn as sns\n",
    "import matplotlib.pyplot as plt\n",
    "%matplotlib inline"
   ]
  },
  {
   "cell_type": "markdown",
   "id": "05a81e87-b55d-4367-907b-56aeca753a1d",
   "metadata": {},
   "source": [
    "### Read dataset ###"
   ]
  },
  {
   "cell_type": "code",
   "execution_count": 2,
   "id": "b3c70154-b223-4d33-8b32-dc21b8a94112",
   "metadata": {},
   "outputs": [],
   "source": [
    "# Read CSV file into a DataFrame\n",
    "df = pd.read_csv('Student.csv')\n"
   ]
  },
  {
   "cell_type": "markdown",
   "id": "a925d02b-aaaa-490d-b13f-49cd751c9914",
   "metadata": {},
   "source": [
    "### About Dataset ###"
   ]
  },
  {
   "cell_type": "markdown",
   "id": "385066d6-bf59-4957-ad07-64ceaaad60eb",
   "metadata": {},
   "source": [
    "*Before process the dataset let's describe it briefly:*\n",
    "\n",
    "- For the sake of applying our skills in machine learning, we will choose an appropriate dataset for our problematic :<br><br>\n",
    "\n",
    "    - This dataset approach students achievement in secondary education.\n",
    "\n",
    "    - The shape of our data set is *(399 rows × 15 columns)*.\n",
    "\n",
    "    - *No missing* values in the data, so we do not have to process lines with missing values.\n",
    "\n",
    "    - The data attributes *include demographic*, social and school related features and it was collected by using school reports and questionnaires.\n",
    "\n",
    "    - *The last column tells us about the Students Grade A, B and C.*\n",
    "\n",
    "    - The dataset is taken from *Kaggle.com*\n",
    "\n",
    "*Now let's explain every column in the dataframe*\n",
    "- Student_Age : student's Age [numeric: 20 18 25 19 21 26]\n",
    "- Sex : student's sex [binary: \"F\" - female or \"M\" - male]\n",
    "- High_School_Type : student's High School type [binary: 'State' or 'Private']\n",
    "- Additional_Work : student's Additional Worke [binary: 'Yes' or 'No']\n",
    "- Sports_activity : students's Sports_activity [binary: 'No' or 'Yes']\n",
    "- Transportation : student's Transportation [binary: 'Bus' or 'Private']\n",
    "- Weekly_Study_Hours : student's Weekly_Study_Hours [numeric: 12, 8, 4, 0, 2]\n",
    "- Attendance : student's Attendance [nominal: 'Always' 'Never' 'Sometimes']\n",
    "- Reading : student's Reading duratino  [numeric: from 0 to 12 ]\n",
    "- Notes : student's have Notes [binary: 'Yes' or 'No']\n",
    "- Listening_in_Class : student's Listening in Class [binary: 'No' or 'Yes']\n",
    "- Project_work : student's work in Project [binary: 'yes' or 'No']\n",
    "\n",
    "*The last column:*\n",
    "- Grade : student grade in the final exam ['A', 'B', 'C']"
   ]
  },
  {
   "cell_type": "code",
   "execution_count": 3,
   "id": "4114755f",
   "metadata": {
    "papermill": {
     "duration": 0.043142,
     "end_time": "2023-08-06T14:36:25.801478",
     "exception": false,
     "start_time": "2023-08-06T14:36:25.758336",
     "status": "completed"
    },
    "tags": []
   },
   "outputs": [
    {
     "data": {
      "text/html": [
       "<div>\n",
       "<style scoped>\n",
       "    .dataframe tbody tr th:only-of-type {\n",
       "        vertical-align: middle;\n",
       "    }\n",
       "\n",
       "    .dataframe tbody tr th {\n",
       "        vertical-align: top;\n",
       "    }\n",
       "\n",
       "    .dataframe thead th {\n",
       "        text-align: right;\n",
       "    }\n",
       "</style>\n",
       "<table border=\"1\" class=\"dataframe\">\n",
       "  <thead>\n",
       "    <tr style=\"text-align: right;\">\n",
       "      <th></th>\n",
       "      <th>Student_ID</th>\n",
       "      <th>Student_Age</th>\n",
       "      <th>Sex</th>\n",
       "      <th>High_School_Type</th>\n",
       "      <th>Scholarship</th>\n",
       "      <th>Additional_Work</th>\n",
       "      <th>Sports_activity</th>\n",
       "      <th>Transportation</th>\n",
       "      <th>Weekly_Study_Hours</th>\n",
       "      <th>Attendance</th>\n",
       "      <th>Reading</th>\n",
       "      <th>Notes</th>\n",
       "      <th>Listening_in_Class</th>\n",
       "      <th>Project_work</th>\n",
       "      <th>Grade</th>\n",
       "    </tr>\n",
       "  </thead>\n",
       "  <tbody>\n",
       "    <tr>\n",
       "      <th>0</th>\n",
       "      <td>STUDENT1</td>\n",
       "      <td>19-22</td>\n",
       "      <td>Male</td>\n",
       "      <td>State</td>\n",
       "      <td>50%</td>\n",
       "      <td>Yes</td>\n",
       "      <td>No</td>\n",
       "      <td>Private</td>\n",
       "      <td>12</td>\n",
       "      <td>Always</td>\n",
       "      <td>Yes</td>\n",
       "      <td>Yes</td>\n",
       "      <td>No</td>\n",
       "      <td>No</td>\n",
       "      <td>A</td>\n",
       "    </tr>\n",
       "    <tr>\n",
       "      <th>1</th>\n",
       "      <td>STUDENT2</td>\n",
       "      <td>19-22</td>\n",
       "      <td>Male</td>\n",
       "      <td>State</td>\n",
       "      <td>50%</td>\n",
       "      <td>Yes</td>\n",
       "      <td>No</td>\n",
       "      <td>Private</td>\n",
       "      <td>12</td>\n",
       "      <td>Always</td>\n",
       "      <td>Yes</td>\n",
       "      <td>No</td>\n",
       "      <td>Yes</td>\n",
       "      <td>Yes</td>\n",
       "      <td>A</td>\n",
       "    </tr>\n",
       "    <tr>\n",
       "      <th>2</th>\n",
       "      <td>STUDENT3</td>\n",
       "      <td>19-22</td>\n",
       "      <td>Male</td>\n",
       "      <td>State</td>\n",
       "      <td>50%</td>\n",
       "      <td>No</td>\n",
       "      <td>No</td>\n",
       "      <td>Private</td>\n",
       "      <td>12</td>\n",
       "      <td>Never</td>\n",
       "      <td>No</td>\n",
       "      <td>No</td>\n",
       "      <td>No</td>\n",
       "      <td>Yes</td>\n",
       "      <td>A</td>\n",
       "    </tr>\n",
       "    <tr>\n",
       "      <th>3</th>\n",
       "      <td>STUDENT4</td>\n",
       "      <td>18</td>\n",
       "      <td>Female</td>\n",
       "      <td>Private</td>\n",
       "      <td>50%</td>\n",
       "      <td>Yes</td>\n",
       "      <td>No</td>\n",
       "      <td>Bus</td>\n",
       "      <td>12</td>\n",
       "      <td>Always</td>\n",
       "      <td>No</td>\n",
       "      <td>Yes</td>\n",
       "      <td>No</td>\n",
       "      <td>No</td>\n",
       "      <td>A</td>\n",
       "    </tr>\n",
       "    <tr>\n",
       "      <th>4</th>\n",
       "      <td>STUDENT5</td>\n",
       "      <td>19-22</td>\n",
       "      <td>Male</td>\n",
       "      <td>Private</td>\n",
       "      <td>50%</td>\n",
       "      <td>No</td>\n",
       "      <td>No</td>\n",
       "      <td>Bus</td>\n",
       "      <td>12</td>\n",
       "      <td>Always</td>\n",
       "      <td>Yes</td>\n",
       "      <td>No</td>\n",
       "      <td>Yes</td>\n",
       "      <td>Yes</td>\n",
       "      <td>A</td>\n",
       "    </tr>\n",
       "  </tbody>\n",
       "</table>\n",
       "</div>"
      ],
      "text/plain": [
       "  Student_ID Student_Age     Sex High_School_Type Scholarship Additional_Work  \\\n",
       "0   STUDENT1       19-22    Male            State         50%             Yes   \n",
       "1   STUDENT2       19-22    Male            State         50%             Yes   \n",
       "2   STUDENT3       19-22    Male            State         50%              No   \n",
       "3   STUDENT4          18  Female          Private         50%             Yes   \n",
       "4   STUDENT5       19-22    Male          Private         50%              No   \n",
       "\n",
       "  Sports_activity Transportation  Weekly_Study_Hours Attendance Reading Notes  \\\n",
       "0              No        Private                  12     Always     Yes   Yes   \n",
       "1              No        Private                  12     Always     Yes    No   \n",
       "2              No        Private                  12      Never      No    No   \n",
       "3              No            Bus                  12     Always      No   Yes   \n",
       "4              No            Bus                  12     Always     Yes    No   \n",
       "\n",
       "  Listening_in_Class Project_work Grade  \n",
       "0                 No           No     A  \n",
       "1                Yes          Yes     A  \n",
       "2                 No          Yes     A  \n",
       "3                 No           No     A  \n",
       "4                Yes          Yes     A  "
      ]
     },
     "execution_count": 3,
     "metadata": {},
     "output_type": "execute_result"
    }
   ],
   "source": [
    "df.head()"
   ]
  },
  {
   "cell_type": "markdown",
   "id": "e03e5238-246b-45bc-930a-918ee278f404",
   "metadata": {},
   "source": [
    "### Drop unuseable Columns ###"
   ]
  },
  {
   "cell_type": "code",
   "execution_count": 4,
   "id": "38a0341c",
   "metadata": {
    "papermill": {
     "duration": 0.043345,
     "end_time": "2023-08-06T14:36:25.859547",
     "exception": false,
     "start_time": "2023-08-06T14:36:25.816202",
     "status": "completed"
    },
    "tags": []
   },
   "outputs": [
    {
     "data": {
      "text/html": [
       "<div>\n",
       "<style scoped>\n",
       "    .dataframe tbody tr th:only-of-type {\n",
       "        vertical-align: middle;\n",
       "    }\n",
       "\n",
       "    .dataframe tbody tr th {\n",
       "        vertical-align: top;\n",
       "    }\n",
       "\n",
       "    .dataframe thead th {\n",
       "        text-align: right;\n",
       "    }\n",
       "</style>\n",
       "<table border=\"1\" class=\"dataframe\">\n",
       "  <thead>\n",
       "    <tr style=\"text-align: right;\">\n",
       "      <th></th>\n",
       "      <th>Student_Age</th>\n",
       "      <th>Sex</th>\n",
       "      <th>High_School_Type</th>\n",
       "      <th>Additional_Work</th>\n",
       "      <th>Sports_activity</th>\n",
       "      <th>Transportation</th>\n",
       "      <th>Weekly_Study_Hours</th>\n",
       "      <th>Attendance</th>\n",
       "      <th>Reading</th>\n",
       "      <th>Notes</th>\n",
       "      <th>Listening_in_Class</th>\n",
       "      <th>Project_work</th>\n",
       "      <th>Grade</th>\n",
       "    </tr>\n",
       "  </thead>\n",
       "  <tbody>\n",
       "    <tr>\n",
       "      <th>0</th>\n",
       "      <td>19-22</td>\n",
       "      <td>Male</td>\n",
       "      <td>State</td>\n",
       "      <td>Yes</td>\n",
       "      <td>No</td>\n",
       "      <td>Private</td>\n",
       "      <td>12</td>\n",
       "      <td>Always</td>\n",
       "      <td>Yes</td>\n",
       "      <td>Yes</td>\n",
       "      <td>No</td>\n",
       "      <td>No</td>\n",
       "      <td>A</td>\n",
       "    </tr>\n",
       "    <tr>\n",
       "      <th>1</th>\n",
       "      <td>19-22</td>\n",
       "      <td>Male</td>\n",
       "      <td>State</td>\n",
       "      <td>Yes</td>\n",
       "      <td>No</td>\n",
       "      <td>Private</td>\n",
       "      <td>12</td>\n",
       "      <td>Always</td>\n",
       "      <td>Yes</td>\n",
       "      <td>No</td>\n",
       "      <td>Yes</td>\n",
       "      <td>Yes</td>\n",
       "      <td>A</td>\n",
       "    </tr>\n",
       "    <tr>\n",
       "      <th>2</th>\n",
       "      <td>19-22</td>\n",
       "      <td>Male</td>\n",
       "      <td>State</td>\n",
       "      <td>No</td>\n",
       "      <td>No</td>\n",
       "      <td>Private</td>\n",
       "      <td>12</td>\n",
       "      <td>Never</td>\n",
       "      <td>No</td>\n",
       "      <td>No</td>\n",
       "      <td>No</td>\n",
       "      <td>Yes</td>\n",
       "      <td>A</td>\n",
       "    </tr>\n",
       "    <tr>\n",
       "      <th>3</th>\n",
       "      <td>18</td>\n",
       "      <td>Female</td>\n",
       "      <td>Private</td>\n",
       "      <td>Yes</td>\n",
       "      <td>No</td>\n",
       "      <td>Bus</td>\n",
       "      <td>12</td>\n",
       "      <td>Always</td>\n",
       "      <td>No</td>\n",
       "      <td>Yes</td>\n",
       "      <td>No</td>\n",
       "      <td>No</td>\n",
       "      <td>A</td>\n",
       "    </tr>\n",
       "    <tr>\n",
       "      <th>4</th>\n",
       "      <td>19-22</td>\n",
       "      <td>Male</td>\n",
       "      <td>Private</td>\n",
       "      <td>No</td>\n",
       "      <td>No</td>\n",
       "      <td>Bus</td>\n",
       "      <td>12</td>\n",
       "      <td>Always</td>\n",
       "      <td>Yes</td>\n",
       "      <td>No</td>\n",
       "      <td>Yes</td>\n",
       "      <td>Yes</td>\n",
       "      <td>A</td>\n",
       "    </tr>\n",
       "  </tbody>\n",
       "</table>\n",
       "</div>"
      ],
      "text/plain": [
       "  Student_Age     Sex High_School_Type Additional_Work Sports_activity  \\\n",
       "0       19-22    Male            State             Yes              No   \n",
       "1       19-22    Male            State             Yes              No   \n",
       "2       19-22    Male            State              No              No   \n",
       "3          18  Female          Private             Yes              No   \n",
       "4       19-22    Male          Private              No              No   \n",
       "\n",
       "  Transportation  Weekly_Study_Hours Attendance Reading Notes  \\\n",
       "0        Private                  12     Always     Yes   Yes   \n",
       "1        Private                  12     Always     Yes    No   \n",
       "2        Private                  12      Never      No    No   \n",
       "3            Bus                  12     Always      No   Yes   \n",
       "4            Bus                  12     Always     Yes    No   \n",
       "\n",
       "  Listening_in_Class Project_work Grade  \n",
       "0                 No           No     A  \n",
       "1                Yes          Yes     A  \n",
       "2                 No          Yes     A  \n",
       "3                 No           No     A  \n",
       "4                Yes          Yes     A  "
      ]
     },
     "execution_count": 4,
     "metadata": {},
     "output_type": "execute_result"
    }
   ],
   "source": [
    "df.drop('Student_ID',axis=1,inplace=True)\n",
    "df.drop('Scholarship',axis=1,inplace=True)\n",
    "df.head()"
   ]
  },
  {
   "cell_type": "markdown",
   "id": "5c239785-962c-468d-9e0b-e35203662876",
   "metadata": {},
   "source": [
    "### Data Inspection ###"
   ]
  },
  {
   "cell_type": "code",
   "execution_count": 5,
   "id": "db69cb23",
   "metadata": {
    "papermill": {
     "duration": 0.027353,
     "end_time": "2023-08-06T14:36:25.900410",
     "exception": false,
     "start_time": "2023-08-06T14:36:25.873057",
     "status": "completed"
    },
    "tags": []
   },
   "outputs": [
    {
     "data": {
      "text/plain": [
       "Student_Age           0\n",
       "Sex                   0\n",
       "High_School_Type      0\n",
       "Additional_Work       0\n",
       "Sports_activity       0\n",
       "Transportation        0\n",
       "Weekly_Study_Hours    0\n",
       "Attendance            0\n",
       "Reading               0\n",
       "Notes                 0\n",
       "Listening_in_Class    0\n",
       "Project_work          0\n",
       "Grade                 0\n",
       "dtype: int64"
      ]
     },
     "execution_count": 5,
     "metadata": {},
     "output_type": "execute_result"
    }
   ],
   "source": [
    "# check for missing values\n",
    "\n",
    "df.isnull().sum()"
   ]
  },
  {
   "cell_type": "code",
   "execution_count": 6,
   "id": "973217c2",
   "metadata": {
    "papermill": {
     "duration": 0.033495,
     "end_time": "2023-08-06T14:36:25.946602",
     "exception": false,
     "start_time": "2023-08-06T14:36:25.913107",
     "status": "completed"
    },
    "tags": []
   },
   "outputs": [
    {
     "data": {
      "text/plain": [
       "96"
      ]
     },
     "execution_count": 6,
     "metadata": {},
     "output_type": "execute_result"
    }
   ],
   "source": [
    "# check for duplicates\n",
    "df.duplicated().sum()"
   ]
  },
  {
   "cell_type": "code",
   "execution_count": 7,
   "id": "c1712a2c",
   "metadata": {
    "papermill": {
     "duration": 0.066434,
     "end_time": "2023-08-06T14:36:26.028000",
     "exception": false,
     "start_time": "2023-08-06T14:36:25.961566",
     "status": "completed"
    },
    "tags": []
   },
   "outputs": [
    {
     "data": {
      "text/html": [
       "<div>\n",
       "<style scoped>\n",
       "    .dataframe tbody tr th:only-of-type {\n",
       "        vertical-align: middle;\n",
       "    }\n",
       "\n",
       "    .dataframe tbody tr th {\n",
       "        vertical-align: top;\n",
       "    }\n",
       "\n",
       "    .dataframe thead th {\n",
       "        text-align: right;\n",
       "    }\n",
       "</style>\n",
       "<table border=\"1\" class=\"dataframe\">\n",
       "  <thead>\n",
       "    <tr style=\"text-align: right;\">\n",
       "      <th></th>\n",
       "      <th>Weekly_Study_Hours</th>\n",
       "    </tr>\n",
       "  </thead>\n",
       "  <tbody>\n",
       "    <tr>\n",
       "      <th>count</th>\n",
       "      <td>399.000000</td>\n",
       "    </tr>\n",
       "    <tr>\n",
       "      <th>mean</th>\n",
       "      <td>4.952381</td>\n",
       "    </tr>\n",
       "    <tr>\n",
       "      <th>std</th>\n",
       "      <td>4.630599</td>\n",
       "    </tr>\n",
       "    <tr>\n",
       "      <th>min</th>\n",
       "      <td>0.000000</td>\n",
       "    </tr>\n",
       "    <tr>\n",
       "      <th>25%</th>\n",
       "      <td>0.000000</td>\n",
       "    </tr>\n",
       "    <tr>\n",
       "      <th>50%</th>\n",
       "      <td>4.000000</td>\n",
       "    </tr>\n",
       "    <tr>\n",
       "      <th>75%</th>\n",
       "      <td>8.000000</td>\n",
       "    </tr>\n",
       "    <tr>\n",
       "      <th>max</th>\n",
       "      <td>12.000000</td>\n",
       "    </tr>\n",
       "  </tbody>\n",
       "</table>\n",
       "</div>"
      ],
      "text/plain": [
       "       Weekly_Study_Hours\n",
       "count          399.000000\n",
       "mean             4.952381\n",
       "std              4.630599\n",
       "min              0.000000\n",
       "25%              0.000000\n",
       "50%              4.000000\n",
       "75%              8.000000\n",
       "max             12.000000"
      ]
     },
     "execution_count": 7,
     "metadata": {},
     "output_type": "execute_result"
    }
   ],
   "source": [
    "df.describe()"
   ]
  },
  {
   "cell_type": "markdown",
   "id": "76eaf306-2b0e-48c4-9056-7e789ac3f234",
   "metadata": {},
   "source": [
    "## Convert Student_age range values to single value "
   ]
  },
  {
   "cell_type": "code",
   "execution_count": 8,
   "id": "529c92b9-2c5f-4a1f-8f2e-fc4a1690de8d",
   "metadata": {},
   "outputs": [
    {
     "data": {
      "text/html": [
       "<div>\n",
       "<style scoped>\n",
       "    .dataframe tbody tr th:only-of-type {\n",
       "        vertical-align: middle;\n",
       "    }\n",
       "\n",
       "    .dataframe tbody tr th {\n",
       "        vertical-align: top;\n",
       "    }\n",
       "\n",
       "    .dataframe thead th {\n",
       "        text-align: right;\n",
       "    }\n",
       "</style>\n",
       "<table border=\"1\" class=\"dataframe\">\n",
       "  <thead>\n",
       "    <tr style=\"text-align: right;\">\n",
       "      <th></th>\n",
       "      <th>Student_Age</th>\n",
       "      <th>Sex</th>\n",
       "      <th>High_School_Type</th>\n",
       "      <th>Additional_Work</th>\n",
       "      <th>Sports_activity</th>\n",
       "      <th>Transportation</th>\n",
       "      <th>Weekly_Study_Hours</th>\n",
       "      <th>Attendance</th>\n",
       "      <th>Reading</th>\n",
       "      <th>Notes</th>\n",
       "      <th>Listening_in_Class</th>\n",
       "      <th>Project_work</th>\n",
       "      <th>Grade</th>\n",
       "    </tr>\n",
       "  </thead>\n",
       "  <tbody>\n",
       "    <tr>\n",
       "      <th>0</th>\n",
       "      <td>20</td>\n",
       "      <td>Male</td>\n",
       "      <td>State</td>\n",
       "      <td>Yes</td>\n",
       "      <td>No</td>\n",
       "      <td>Private</td>\n",
       "      <td>12</td>\n",
       "      <td>Always</td>\n",
       "      <td>Yes</td>\n",
       "      <td>Yes</td>\n",
       "      <td>No</td>\n",
       "      <td>No</td>\n",
       "      <td>A</td>\n",
       "    </tr>\n",
       "    <tr>\n",
       "      <th>1</th>\n",
       "      <td>20</td>\n",
       "      <td>Male</td>\n",
       "      <td>State</td>\n",
       "      <td>Yes</td>\n",
       "      <td>No</td>\n",
       "      <td>Private</td>\n",
       "      <td>12</td>\n",
       "      <td>Always</td>\n",
       "      <td>Yes</td>\n",
       "      <td>No</td>\n",
       "      <td>Yes</td>\n",
       "      <td>Yes</td>\n",
       "      <td>A</td>\n",
       "    </tr>\n",
       "    <tr>\n",
       "      <th>2</th>\n",
       "      <td>20</td>\n",
       "      <td>Male</td>\n",
       "      <td>State</td>\n",
       "      <td>No</td>\n",
       "      <td>No</td>\n",
       "      <td>Private</td>\n",
       "      <td>12</td>\n",
       "      <td>Never</td>\n",
       "      <td>No</td>\n",
       "      <td>No</td>\n",
       "      <td>No</td>\n",
       "      <td>Yes</td>\n",
       "      <td>A</td>\n",
       "    </tr>\n",
       "    <tr>\n",
       "      <th>3</th>\n",
       "      <td>18</td>\n",
       "      <td>Female</td>\n",
       "      <td>Private</td>\n",
       "      <td>Yes</td>\n",
       "      <td>No</td>\n",
       "      <td>Bus</td>\n",
       "      <td>12</td>\n",
       "      <td>Always</td>\n",
       "      <td>No</td>\n",
       "      <td>Yes</td>\n",
       "      <td>No</td>\n",
       "      <td>No</td>\n",
       "      <td>A</td>\n",
       "    </tr>\n",
       "    <tr>\n",
       "      <th>4</th>\n",
       "      <td>20</td>\n",
       "      <td>Male</td>\n",
       "      <td>Private</td>\n",
       "      <td>No</td>\n",
       "      <td>No</td>\n",
       "      <td>Bus</td>\n",
       "      <td>12</td>\n",
       "      <td>Always</td>\n",
       "      <td>Yes</td>\n",
       "      <td>No</td>\n",
       "      <td>Yes</td>\n",
       "      <td>Yes</td>\n",
       "      <td>A</td>\n",
       "    </tr>\n",
       "    <tr>\n",
       "      <th>...</th>\n",
       "      <td>...</td>\n",
       "      <td>...</td>\n",
       "      <td>...</td>\n",
       "      <td>...</td>\n",
       "      <td>...</td>\n",
       "      <td>...</td>\n",
       "      <td>...</td>\n",
       "      <td>...</td>\n",
       "      <td>...</td>\n",
       "      <td>...</td>\n",
       "      <td>...</td>\n",
       "      <td>...</td>\n",
       "      <td>...</td>\n",
       "    </tr>\n",
       "    <tr>\n",
       "      <th>394</th>\n",
       "      <td>18</td>\n",
       "      <td>Female</td>\n",
       "      <td>State</td>\n",
       "      <td>No</td>\n",
       "      <td>No</td>\n",
       "      <td>Private</td>\n",
       "      <td>0</td>\n",
       "      <td>Sometimes</td>\n",
       "      <td>No</td>\n",
       "      <td>Yes</td>\n",
       "      <td>No</td>\n",
       "      <td>Yes</td>\n",
       "      <td>B</td>\n",
       "    </tr>\n",
       "    <tr>\n",
       "      <th>395</th>\n",
       "      <td>18</td>\n",
       "      <td>Male</td>\n",
       "      <td>State</td>\n",
       "      <td>Yes</td>\n",
       "      <td>Yes</td>\n",
       "      <td>Private</td>\n",
       "      <td>0</td>\n",
       "      <td>Always</td>\n",
       "      <td>Yes</td>\n",
       "      <td>No</td>\n",
       "      <td>No</td>\n",
       "      <td>No</td>\n",
       "      <td>C</td>\n",
       "    </tr>\n",
       "    <tr>\n",
       "      <th>396</th>\n",
       "      <td>18</td>\n",
       "      <td>Male</td>\n",
       "      <td>State</td>\n",
       "      <td>No</td>\n",
       "      <td>Yes</td>\n",
       "      <td>Private</td>\n",
       "      <td>0</td>\n",
       "      <td>Always</td>\n",
       "      <td>No</td>\n",
       "      <td>No</td>\n",
       "      <td>No</td>\n",
       "      <td>Yes</td>\n",
       "      <td>C</td>\n",
       "    </tr>\n",
       "    <tr>\n",
       "      <th>397</th>\n",
       "      <td>18</td>\n",
       "      <td>Female</td>\n",
       "      <td>State</td>\n",
       "      <td>Yes</td>\n",
       "      <td>Yes</td>\n",
       "      <td>Private</td>\n",
       "      <td>0</td>\n",
       "      <td>Always</td>\n",
       "      <td>No</td>\n",
       "      <td>Yes</td>\n",
       "      <td>Yes</td>\n",
       "      <td>No</td>\n",
       "      <td>C</td>\n",
       "    </tr>\n",
       "    <tr>\n",
       "      <th>398</th>\n",
       "      <td>21</td>\n",
       "      <td>Female</td>\n",
       "      <td>Private</td>\n",
       "      <td>No</td>\n",
       "      <td>Yes</td>\n",
       "      <td>Private</td>\n",
       "      <td>2</td>\n",
       "      <td>Sometimes</td>\n",
       "      <td>Yes</td>\n",
       "      <td>Yes</td>\n",
       "      <td>No</td>\n",
       "      <td>Yes</td>\n",
       "      <td>C</td>\n",
       "    </tr>\n",
       "  </tbody>\n",
       "</table>\n",
       "<p>399 rows × 13 columns</p>\n",
       "</div>"
      ],
      "text/plain": [
       "     Student_Age     Sex High_School_Type Additional_Work Sports_activity  \\\n",
       "0             20    Male            State             Yes              No   \n",
       "1             20    Male            State             Yes              No   \n",
       "2             20    Male            State              No              No   \n",
       "3             18  Female          Private             Yes              No   \n",
       "4             20    Male          Private              No              No   \n",
       "..           ...     ...              ...             ...             ...   \n",
       "394           18  Female            State              No              No   \n",
       "395           18    Male            State             Yes             Yes   \n",
       "396           18    Male            State              No             Yes   \n",
       "397           18  Female            State             Yes             Yes   \n",
       "398           21  Female          Private              No             Yes   \n",
       "\n",
       "    Transportation  Weekly_Study_Hours Attendance Reading Notes  \\\n",
       "0          Private                  12     Always     Yes   Yes   \n",
       "1          Private                  12     Always     Yes    No   \n",
       "2          Private                  12      Never      No    No   \n",
       "3              Bus                  12     Always      No   Yes   \n",
       "4              Bus                  12     Always     Yes    No   \n",
       "..             ...                 ...        ...     ...   ...   \n",
       "394        Private                   0  Sometimes      No   Yes   \n",
       "395        Private                   0     Always     Yes    No   \n",
       "396        Private                   0     Always      No    No   \n",
       "397        Private                   0     Always      No   Yes   \n",
       "398        Private                   2  Sometimes     Yes   Yes   \n",
       "\n",
       "    Listening_in_Class Project_work Grade  \n",
       "0                   No           No     A  \n",
       "1                  Yes          Yes     A  \n",
       "2                   No          Yes     A  \n",
       "3                   No           No     A  \n",
       "4                  Yes          Yes     A  \n",
       "..                 ...          ...   ...  \n",
       "394                 No          Yes     B  \n",
       "395                 No           No     C  \n",
       "396                 No          Yes     C  \n",
       "397                Yes           No     C  \n",
       "398                 No          Yes     C  \n",
       "\n",
       "[399 rows x 13 columns]"
      ]
     },
     "execution_count": 8,
     "metadata": {},
     "output_type": "execute_result"
    }
   ],
   "source": [
    "# Function to convert age ranges to mean values\n",
    "def age_range_to_mean(age_range):\n",
    "    if isinstance(age_range, str) and '-' in age_range:\n",
    "        start, end = map(int, age_range.split('-'))\n",
    "        return (start + end) / 2\n",
    "    elif isinstance(age_range, str):\n",
    "        return int(age_range)\n",
    "    else:\n",
    "        return int(age_range)\n",
    "\n",
    "# Apply the function to the 'Student_Age' column\n",
    "df['Student_Age'] = df['Student_Age'].apply(age_range_to_mean)\n",
    "# Assuming df is your DataFrame\n",
    "\n",
    "# Convert 'Student_Age' column to integers\n",
    "df['Student_Age'] = df['Student_Age'].astype(int)\n",
    "\n",
    "df\n"
   ]
  },
  {
   "cell_type": "code",
   "execution_count": 9,
   "id": "738b7680-978d-44d0-8aba-f7be537043b3",
   "metadata": {},
   "outputs": [
    {
     "name": "stdout",
     "output_type": "stream",
     "text": [
      "[12 8 4 0 2 'A' 'B' 'C']\n"
     ]
    }
   ],
   "source": [
    "combined_values = pd.concat([df['Weekly_Study_Hours'], df['Grade']])\n",
    "\n",
    "# Extract unique values\n",
    "unique_values = combined_values.unique()\n",
    "\n",
    "print(unique_values)"
   ]
  },
  {
   "cell_type": "markdown",
   "id": "f486e46f-b133-472e-8b14-bcf844d527d9",
   "metadata": {},
   "source": [
    "### a) Generate Hitmap ###"
   ]
  },
  {
   "cell_type": "code",
   "execution_count": 10,
   "id": "f47f6c98-5e41-43fc-9f7e-fbcadc1394d7",
   "metadata": {},
   "outputs": [],
   "source": [
    "# corr = df.corr()\n",
    "# plt.figure(figsize=(30,30))\n",
    "# sns.heatmap(corr, annot=True, cmap=\"Reds\")\n",
    "# plt.title('Correlation Heatmap', fontsize=20)"
   ]
  },
  {
   "cell_type": "markdown",
   "id": "f034b1bb-c598-4533-8b86-f5ba2e85d66f",
   "metadata": {},
   "source": [
    "### b) Distribution plot ###\n",
    "\n",
    "In this step let's look deeper into each features and make a final summary for best social,demographic and school conditions."
   ]
  },
  {
   "cell_type": "markdown",
   "id": "a44aea96-2174-46e1-8956-37243e99c5ff",
   "metadata": {},
   "source": [
    "## b.1) Students status by Gender"
   ]
  },
  {
   "cell_type": "code",
   "execution_count": 11,
   "id": "4af6baff-6f62-4e73-9dd1-fd22be653a86",
   "metadata": {},
   "outputs": [
    {
     "data": {
      "image/png": "[encoded data removed]",
      "text/plain": [
       "<Figure size 700x500 with 1 Axes>"
      ]
     },
     "metadata": {},
     "output_type": "display_data"
    }
   ],
   "source": [
    "fig, ax = plt.subplots(figsize=(7, 5))\n",
    "sns.countplot(data=df, x='Grade', hue='Sex', palette=['magenta', 'green'], ax=ax)\n",
    "ax.set_title('Students status by Gender')\n",
    "ax.set_xlabel('Grade')\n",
    "ax.set_ylabel('No. of Students')\n",
    "plt.show()"
   ]
  },
  {
   "cell_type": "markdown",
   "id": "76827dd1-8c45-4c45-ba07-fbc0468f4dc4",
   "metadata": {},
   "source": [
    "### b.2) Students status by Age ###"
   ]
  },
  {
   "cell_type": "code",
   "execution_count": 29,
   "id": "bc36de32-15ad-45fb-879a-13c801b25350",
   "metadata": {},
   "outputs": [
    {
     "data": {
      "image/png": "[encoded data removed]",
      "text/plain": [
       "<Figure size 700x500 with 1 Axes>"
      ]
     },
     "metadata": {},
     "output_type": "display_data"
    }
   ],
   "source": [
    "fig, ax = plt.subplots(figsize=(7, 5))\n",
    "sns.countplot(data=df, x='Grade', hue='Student_Age', palette=['cyan','red','orange','green','blue','purple'], ax=ax)\n",
    "ax.set_title('Students status by Age')\n",
    "ax.set_xlabel('Grade')\n",
    "ax.set_ylabel('No. of Students')\n",
    "plt.show()"
   ]
  },
  {
   "cell_type": "markdown",
   "id": "13c55c35-2b15-4aad-ba92-03af08de8049",
   "metadata": {},
   "source": [
    "### b.3) Students status by High School Type ###"
   ]
  },
  {
   "cell_type": "code",
   "execution_count": 30,
   "id": "4dbae6a1-d4e5-4730-9d70-a48ce7bf6c28",
   "metadata": {},
   "outputs": [
    {
     "data": {
      "image/png": "[encoded data removed]",
      "text/plain": [
       "<Figure size 700x500 with 1 Axes>"
      ]
     },
     "metadata": {},
     "output_type": "display_data"
    }
   ],
   "source": [
    "fig, ax = plt.subplots(figsize=(7, 5))\n",
    "sns.countplot(data=df, x='Grade', hue='High_School_Type', palette=['green', 'cyan'], ax=ax)\n",
    "ax.set_title('Students status by High School Type')\n",
    "ax.set_xlabel('Grade')\n",
    "ax.set_ylabel('No. of Students')\n",
    "plt.show()"
   ]
  },
  {
   "cell_type": "markdown",
   "id": "f6b91598-a37c-4bf0-9cd6-376a4dcbbf51",
   "metadata": {},
   "source": [
    "### b.4) Students status by Sports Activity"
   ]
  },
  {
   "cell_type": "code",
   "execution_count": 31,
   "id": "17d0d09d-6ad8-4c3b-a7bc-59af4753c660",
   "metadata": {},
   "outputs": [
    {
     "data": {
      "image/png": "[encoded data removed]",
      "text/plain": [
       "<Figure size 700x500 with 1 Axes>"
      ]
     },
     "metadata": {},
     "output_type": "display_data"
    }
   ],
   "source": [
    "import seaborn as sns\n",
    "\n",
    "fig, ax = plt.subplots(figsize=(7, 5))\n",
    "sns.countplot(data=df, x='Grade', hue='Sports_activity', palette=['purple','gray'], ax=ax)\n",
    "ax.set_title('Students status by Sports_activity')\n",
    "ax.set_xlabel('Grade')\n",
    "ax.set_ylabel('No. of Students')\n",
    "plt.show()"
   ]
  },
  {
   "cell_type": "markdown",
   "id": "554f4cfc-72de-4f71-8f2c-bc14577484c1",
   "metadata": {},
   "source": [
    "### b.5) Students Attendance by Transportation"
   ]
  },
  {
   "cell_type": "code",
   "execution_count": 32,
   "id": "964686d9-1a99-4d2e-a99a-54a52aa740bf",
   "metadata": {},
   "outputs": [
    {
     "data": {
      "image/png": "[encoded data removed]",
      "text/plain": [
       "<Figure size 700x500 with 1 Axes>"
      ]
     },
     "metadata": {},
     "output_type": "display_data"
    }
   ],
   "source": [
    "fig, ax = plt.subplots(figsize=(7, 5))\n",
    "sns.countplot(data=df, x='Attendance', hue='Transportation', palette=['olive','cyan'], ax=ax)\n",
    "ax.set_title('Students Attendance by Transportation')\n",
    "ax.set_xlabel('Attendance')\n",
    "ax.set_ylabel('No. of Students')\n",
    "plt.show()"
   ]
  },
  {
   "cell_type": "markdown",
   "id": "d088c888-e46f-4392-a013-ebf7c58d8b34",
   "metadata": {},
   "source": [
    "### b.6) Students status by Listening in Class"
   ]
  },
  {
   "cell_type": "code",
   "execution_count": 33,
   "id": "1ba6c8d6-46c6-4787-82bf-74507d473129",
   "metadata": {},
   "outputs": [
    {
     "data": {
      "image/png": "[encoded data removed]",
      "text/plain": [
       "<Figure size 700x500 with 1 Axes>"
      ]
     },
     "metadata": {},
     "output_type": "display_data"
    }
   ],
   "source": [
    "fig, ax = plt.subplots(figsize=(7, 5))\n",
    "sns.countplot(data=df, x='Grade', hue='Listening_in_Class', palette=['red','blue'], ax=ax)\n",
    "ax.set_title('Students status by Listening in Class')\n",
    "ax.set_xlabel('Grade')\n",
    "ax.set_ylabel('No. of Students')\n",
    "plt.show()"
   ]
  },
  {
   "cell_type": "markdown",
   "id": "155e4e48-5bb6-444a-9b3f-125c3f5ef0aa",
   "metadata": {},
   "source": [
    "### b.7) Students status by Weekly Study Hours"
   ]
  },
  {
   "cell_type": "code",
   "execution_count": 34,
   "id": "cf5c0024-823e-41b3-9ff8-42d2a600dfc7",
   "metadata": {},
   "outputs": [
    {
     "data": {
      "image/png": "[encoded data removed]",
      "text/plain": [
       "<Figure size 700x500 with 1 Axes>"
      ]
     },
     "metadata": {},
     "output_type": "display_data"
    }
   ],
   "source": [
    "plt.figure(figsize=(7,5))\n",
    "plt.title('Grade vs Weekly_Study_Hours')\n",
    "sns.barplot(hue=\"Sex\", y=\"Weekly_Study_Hours\", x=\"Grade\", data=df)\n",
    "plt.show()"
   ]
  },
  {
   "cell_type": "markdown",
   "id": "112f7c8c-4788-445e-905e-ebc7fbbe7f85",
   "metadata": {},
   "source": [
    "### b.8) Students status by Reading"
   ]
  },
  {
   "cell_type": "code",
   "execution_count": 35,
   "id": "71f6f2b6-253b-46f5-a2ec-a5c28926f39b",
   "metadata": {},
   "outputs": [
    {
     "data": {
      "image/png": "[encoded data removed]",
      "text/plain": [
       "<Figure size 700x500 with 1 Axes>"
      ]
     },
     "metadata": {},
     "output_type": "display_data"
    }
   ],
   "source": [
    "fig, ax = plt.subplots(figsize=(7, 5))\n",
    "sns.countplot(data=df, x='Grade', hue='Reading', palette=['orange','cyan'], ax=ax)\n",
    "ax.set_title('Students status by Reading')\n",
    "ax.set_xlabel('Students Grade')\n",
    "ax.set_ylabel('No. of Students')\n",
    "plt.show()"
   ]
  },
  {
   "cell_type": "markdown",
   "id": "8615afef-96fe-4921-a2fa-f4d7c6bfcb37",
   "metadata": {},
   "source": [
    "### b.9) Students status by Project Work"
   ]
  },
  {
   "cell_type": "code",
   "execution_count": 36,
   "id": "561096c6-3e00-4d87-93a5-a43763f80f15",
   "metadata": {},
   "outputs": [
    {
     "data": {
      "image/png": "[encoded data removed]",
      "text/plain": [
       "<Figure size 800x500 with 1 Axes>"
      ]
     },
     "metadata": {},
     "output_type": "display_data"
    }
   ],
   "source": [
    "fig, ax = plt.subplots(figsize=(8, 5))\n",
    "sns.countplot(data=df, x='Grade', hue='Project_work', palette=['lime','pink'], ax=ax)\n",
    "ax.set_title('Students status by Project Work')\n",
    "ax.set_xlabel('Students Grade')\n",
    "ax.set_ylabel('No. of Students')\n",
    "plt.show()"
   ]
  },
  {
   "cell_type": "code",
   "execution_count": 37,
   "id": "99b72310-db98-43e9-aa74-d31412ff9f29",
   "metadata": {},
   "outputs": [
    {
     "data": {
      "image/png": "[encoded data removed]",
      "text/plain": [
       "<Figure size 3000x1200 with 3 Axes>"
      ]
     },
     "metadata": {},
     "output_type": "display_data"
    }
   ],
   "source": [
    "plt.rcParams['figure.figsize'] = (30, 12)\n",
    "\n",
    "\n",
    "plt.subplot(1, 5, 1)\n",
    "size = df['Weekly_Study_Hours'].value_counts()\n",
    "labels = '0hr', '12hr','4hr','8hr','2hr'\n",
    "color = ['red', 'green','blue','cyan','orange']\n",
    "\n",
    "plt.pie(size, colors = color,labels = labels,autopct = '%1.3f%%',textprops={'fontsize':14})\n",
    "plt.title('Weekly Study Hours', fontsize = 20)\n",
    "plt.axis('off')\n",
    "\n",
    "\n",
    "plt.subplot(1, 5, 2)\n",
    "size = df['Attendance'].value_counts()\n",
    "labels = 'Always','Sometimes', 'Never'\n",
    "color = ['green', 'blue', 'red']\n",
    "\n",
    "plt.pie(size, colors = color,labels = labels,autopct = '%1.3f%%',textprops={'fontsize':14})\n",
    "plt.title('Attendance', fontsize = 20)\n",
    "plt.axis('off')\n",
    "\n",
    "plt.subplot(1, 5, 3)\n",
    "size = df['Grade'].value_counts()\n",
    "labels = 'C', 'B','A'\n",
    "color = ['red','cyan','green']\n",
    "\n",
    "plt.pie(size, colors = color,labels = labels,autopct = '%1.2f%%',textprops={'fontsize':14})\n",
    "plt.title('Grade', fontsize = 20)\n",
    "plt.axis('off')\n",
    "\n",
    "\n",
    "plt.tight_layout()\n",
    "plt.grid()\n",
    "\n",
    "plt.show()"
   ]
  },
  {
   "cell_type": "markdown",
   "id": "c242b2dd-1312-4c80-8169-0250f9b09e02",
   "metadata": {},
   "source": [
    "### General Conclusion"
   ]
  },
  {
   "cell_type": "markdown",
   "id": "31126778-f88d-4106-ba56-93f2931bf888",
   "metadata": {},
   "source": [
    "### Summary:\n",
    "  After dealing with the most relevent features ,the valedictorian of an exellents conditions for heigh academic  potentials is likely to have this profile:\n",
    "\n",
    "1. Study more than 10 hours a week\n",
    "\n",
    "2. No absences to classes\n",
    "\n",
    "3. Readig continuously\n",
    "\n",
    "4. Try to use comfortable Transportation\n",
    "\n",
    "5. Students have to work on project\n",
    "\n",
    "6. Listening in class continuously "
   ]
  },
  {
   "cell_type": "code",
   "execution_count": 12,
   "id": "f71f5fa6",
   "metadata": {
    "papermill": {
     "duration": 0.036837,
     "end_time": "2023-08-06T14:36:26.077988",
     "exception": false,
     "start_time": "2023-08-06T14:36:26.041151",
     "status": "completed"
    },
    "tags": []
   },
   "outputs": [
    {
     "name": "stdout",
     "output_type": "stream",
     "text": [
      "<class 'pandas.core.frame.DataFrame'>\n",
      "RangeIndex: 399 entries, 0 to 398\n",
      "Data columns (total 13 columns):\n",
      " #   Column              Non-Null Count  Dtype \n",
      "---  ------              --------------  ----- \n",
      " 0   Student_Age         399 non-null    int32 \n",
      " 1   Sex                 399 non-null    object\n",
      " 2   High_School_Type    399 non-null    object\n",
      " 3   Additional_Work     399 non-null    object\n",
      " 4   Sports_activity     399 non-null    object\n",
      " 5   Transportation      399 non-null    object\n",
      " 6   Weekly_Study_Hours  399 non-null    int64 \n",
      " 7   Attendance          399 non-null    object\n",
      " 8   Reading             399 non-null    object\n",
      " 9   Notes               399 non-null    object\n",
      " 10  Listening_in_Class  399 non-null    object\n",
      " 11  Project_work        399 non-null    object\n",
      " 12  Grade               399 non-null    object\n",
      "dtypes: int32(1), int64(1), object(11)\n",
      "memory usage: 39.1+ KB\n"
     ]
    }
   ],
   "source": [
    "df.info()\n"
   ]
  },
  {
   "cell_type": "code",
   "execution_count": 13,
   "id": "93db45a2",
   "metadata": {
    "papermill": {
     "duration": 0.025009,
     "end_time": "2023-08-06T14:36:26.116267",
     "exception": false,
     "start_time": "2023-08-06T14:36:26.091258",
     "status": "completed"
    },
    "tags": []
   },
   "outputs": [
    {
     "data": {
      "text/plain": [
       "Index(['Student_Age', 'Sex', 'High_School_Type', 'Additional_Work',\n",
       "       'Sports_activity', 'Transportation', 'Weekly_Study_Hours', 'Attendance',\n",
       "       'Reading', 'Notes', 'Listening_in_Class', 'Project_work', 'Grade'],\n",
       "      dtype='object')"
      ]
     },
     "execution_count": 13,
     "metadata": {},
     "output_type": "execute_result"
    }
   ],
   "source": [
    "df.columns"
   ]
  },
  {
   "cell_type": "markdown",
   "id": "b01d9d68-f0e3-4897-82bf-6734d40742df",
   "metadata": {},
   "source": [
    "## Check columns unique values"
   ]
  },
  {
   "cell_type": "code",
   "execution_count": 14,
   "id": "86f2ea79",
   "metadata": {
    "papermill": {
     "duration": 0.02456,
     "end_time": "2023-08-06T14:36:26.154598",
     "exception": false,
     "start_time": "2023-08-06T14:36:26.130038",
     "status": "completed"
    },
    "tags": []
   },
   "outputs": [
    {
     "name": "stdout",
     "output_type": "stream",
     "text": [
      "Unique values for 'Student_Age': [20 18 25 19 21 26]\n",
      "Unique values for 'Sex': ['Male' 'Female']\n",
      "Unique values for 'High_School_Type': ['State' 'Private']\n",
      "Unique values for 'Additional_Work': ['Yes' 'No']\n",
      "Unique values for 'Sports_activity': ['No' 'Yes']\n",
      "Unique values for 'Transportation': ['Private' 'Bus']\n",
      "Unique values for 'Weekly_Study_Hours': [12  8  4  0  2]\n",
      "Unique values for 'Attendance': ['Always' 'Never' 'Sometimes']\n",
      "Unique values for 'Reading': ['Yes' 'No']\n",
      "Unique values for 'Notes': ['Yes' 'No']\n",
      "Unique values for 'Listening_in_Class': ['No' 'Yes']\n",
      "Unique values for 'Project_work': ['No' 'Yes']\n",
      "Unique values for 'Grade': ['A' 'B' 'C']\n"
     ]
    }
   ],
   "source": [
    "# Assuming df is your DataFrame\n",
    "\n",
    "# List of columns for which you want to find unique values\n",
    "columns = ['Student_Age', 'Sex', 'High_School_Type',\n",
    "           'Additional_Work', 'Sports_activity', 'Transportation',\n",
    "           'Weekly_Study_Hours', 'Attendance', 'Reading', 'Notes',\n",
    "           'Listening_in_Class', 'Project_work', 'Grade']\n",
    "\n",
    "# Iterate through each column and print unique values\n",
    "for column in columns:\n",
    "    unique_values = df[column].unique()\n",
    "    print(f\"Unique values for '{column}': {unique_values}\")\n"
   ]
  },
  {
   "cell_type": "code",
   "execution_count": 15,
   "id": "cae5e2f2-3d8d-438b-a561-078081b8dfad",
   "metadata": {},
   "outputs": [
    {
     "name": "stdout",
     "output_type": "stream",
     "text": [
      "Unique values for 'Student_Age': [20 18 25 19 21 26]\n",
      "Unique values for 'Sex': ['Male' 'Female']\n",
      "Unique values for 'High_School_Type': ['State' 'Private']\n",
      "Unique values for 'Additional_Work': ['Yes' 'No']\n",
      "Unique values for 'Sports_activity': ['No' 'Yes']\n",
      "Unique values for 'Transportation': ['Private' 'Bus']\n",
      "Unique values for 'Weekly_Study_Hours': [12  8  4  0  2]\n",
      "Unique values for 'Attendance': ['Always' 'Never' 'Sometimes']\n",
      "Unique values for 'Reading': ['Yes' 'No']\n",
      "Unique values for 'Notes': ['Yes' 'No']\n",
      "Unique values for 'Listening_in_Class': ['No' 'Yes']\n",
      "Unique values for 'Project_work': ['No' 'Yes']\n",
      "Unique values for 'Grade': ['A' 'B' 'C']\n"
     ]
    }
   ],
   "source": [
    "# Assuming df is your DataFrame\n",
    "\n",
    "# List of columns for which you want to find unique values\n",
    "columns = ['Student_Age', 'Sex', 'High_School_Type',\n",
    "           'Additional_Work', 'Sports_activity', 'Transportation',\n",
    "           'Weekly_Study_Hours', 'Attendance', 'Reading', 'Notes',\n",
    "           'Listening_in_Class', 'Project_work', 'Grade']\n",
    "\n",
    "# Iterate through each column and print unique values\n",
    "for column in columns:\n",
    "    unique_values = df[column].unique()\n",
    "    print(f\"Unique values for '{column}': {unique_values}\")"
   ]
  },
  {
   "cell_type": "markdown",
   "id": "4ac88619-7434-4ac6-8f88-d7c78a5b2e03",
   "metadata": {},
   "source": [
    "## Now we convert string values to numberical"
   ]
  },
  {
   "cell_type": "code",
   "execution_count": 16,
   "id": "6cbb4eec-a176-4baa-8b0d-f84c2e86e3bb",
   "metadata": {},
   "outputs": [],
   "source": [
    "def numerical_data():\n",
    "    df['Sex'] = df['Sex'].map({'Male': 0, 'Female': 1})\n",
    "    df['High_School_Type'] = df['High_School_Type'].map({'Private': 0, 'State': 1})\n",
    "    df['Additional_Work'] = df['Additional_Work'].map({'No': 0, 'Yes': 1})\n",
    "    df['Sports_activity'] = df['Sports_activity'].map({'No': 0, 'Yes': 1})\n",
    "    df['Transportation'] = df['Transportation'].map({'Private': 0, 'Bus': 1, 'State': 2})\n",
    "    df['Attendance'] = df['Attendance'].map({'Always': 1, 'Never': 0, 'Sometimes': 2})\n",
    "    df['Reading'] = df['Reading'].map({'No': 0, 'Yes': 1})\n",
    "    df['Notes'] = df['Notes'].map({'No': 0, 'Yes': 1})\n",
    "    df['Listening_in_Class'] = df['Listening_in_Class'].map({'No': 0, 'Yes': 1})\n",
    "    df['Project_work'] = df['Project_work'].map({'No': 0, 'Yes': 1})\n",
    "    df['Grade'] = df['Grade'].map({'A': 0, 'B': 1, 'C': 2})\n",
    "numerical_data()\n"
   ]
  },
  {
   "cell_type": "code",
   "execution_count": 17,
   "id": "55390802-6888-47af-8173-cb92eb3c9896",
   "metadata": {},
   "outputs": [
    {
     "name": "stdout",
     "output_type": "stream",
     "text": [
      "Unique values for 'Student_Age': [20 18 25 19 21 26]\n",
      "Unique values for 'Sex': [0 1]\n",
      "Unique values for 'High_School_Type': [1 0]\n",
      "Unique values for 'Additional_Work': [1 0]\n",
      "Unique values for 'Sports_activity': [0 1]\n",
      "Unique values for 'Transportation': [0 1]\n",
      "Unique values for 'Weekly_Study_Hours': [12  8  4  0  2]\n",
      "Unique values for 'Attendance': [1 0 2]\n",
      "Unique values for 'Reading': [1 0]\n",
      "Unique values for 'Notes': [1 0]\n",
      "Unique values for 'Listening_in_Class': [0 1]\n",
      "Unique values for 'Project_work': [0 1]\n",
      "Unique values for 'Grade': [0 1 2]\n"
     ]
    }
   ],
   "source": [
    "columns = ['Student_Age', 'Sex', 'High_School_Type',\n",
    "           'Additional_Work', 'Sports_activity', 'Transportation',\n",
    "           'Weekly_Study_Hours', 'Attendance', 'Reading', 'Notes',\n",
    "           'Listening_in_Class', 'Project_work', 'Grade']\n",
    "\n",
    "# Iterate through each column and print unique values\n",
    "for column in columns:\n",
    "    unique_values = df[column].unique()\n",
    "    print(f\"Unique values for '{column}': {unique_values}\")"
   ]
  },
  {
   "cell_type": "code",
   "execution_count": 18,
   "id": "66036805-050a-49df-a848-f26bbcddaf89",
   "metadata": {},
   "outputs": [
    {
     "data": {
      "text/html": [
       "<div>\n",
       "<style scoped>\n",
       "    .dataframe tbody tr th:only-of-type {\n",
       "        vertical-align: middle;\n",
       "    }\n",
       "\n",
       "    .dataframe tbody tr th {\n",
       "        vertical-align: top;\n",
       "    }\n",
       "\n",
       "    .dataframe thead th {\n",
       "        text-align: right;\n",
       "    }\n",
       "</style>\n",
       "<table border=\"1\" class=\"dataframe\">\n",
       "  <thead>\n",
       "    <tr style=\"text-align: right;\">\n",
       "      <th></th>\n",
       "      <th>Student_Age</th>\n",
       "      <th>Sex</th>\n",
       "      <th>High_School_Type</th>\n",
       "      <th>Additional_Work</th>\n",
       "      <th>Sports_activity</th>\n",
       "      <th>Transportation</th>\n",
       "      <th>Weekly_Study_Hours</th>\n",
       "      <th>Attendance</th>\n",
       "      <th>Reading</th>\n",
       "      <th>Notes</th>\n",
       "      <th>Listening_in_Class</th>\n",
       "      <th>Project_work</th>\n",
       "      <th>Grade</th>\n",
       "    </tr>\n",
       "  </thead>\n",
       "  <tbody>\n",
       "    <tr>\n",
       "      <th>0</th>\n",
       "      <td>20</td>\n",
       "      <td>0</td>\n",
       "      <td>1</td>\n",
       "      <td>1</td>\n",
       "      <td>0</td>\n",
       "      <td>0</td>\n",
       "      <td>12</td>\n",
       "      <td>1</td>\n",
       "      <td>1</td>\n",
       "      <td>1</td>\n",
       "      <td>0</td>\n",
       "      <td>0</td>\n",
       "      <td>0</td>\n",
       "    </tr>\n",
       "    <tr>\n",
       "      <th>1</th>\n",
       "      <td>20</td>\n",
       "      <td>0</td>\n",
       "      <td>1</td>\n",
       "      <td>1</td>\n",
       "      <td>0</td>\n",
       "      <td>0</td>\n",
       "      <td>12</td>\n",
       "      <td>1</td>\n",
       "      <td>1</td>\n",
       "      <td>0</td>\n",
       "      <td>1</td>\n",
       "      <td>1</td>\n",
       "      <td>0</td>\n",
       "    </tr>\n",
       "    <tr>\n",
       "      <th>2</th>\n",
       "      <td>20</td>\n",
       "      <td>0</td>\n",
       "      <td>1</td>\n",
       "      <td>0</td>\n",
       "      <td>0</td>\n",
       "      <td>0</td>\n",
       "      <td>12</td>\n",
       "      <td>0</td>\n",
       "      <td>0</td>\n",
       "      <td>0</td>\n",
       "      <td>0</td>\n",
       "      <td>1</td>\n",
       "      <td>0</td>\n",
       "    </tr>\n",
       "    <tr>\n",
       "      <th>3</th>\n",
       "      <td>18</td>\n",
       "      <td>1</td>\n",
       "      <td>0</td>\n",
       "      <td>1</td>\n",
       "      <td>0</td>\n",
       "      <td>1</td>\n",
       "      <td>12</td>\n",
       "      <td>1</td>\n",
       "      <td>0</td>\n",
       "      <td>1</td>\n",
       "      <td>0</td>\n",
       "      <td>0</td>\n",
       "      <td>0</td>\n",
       "    </tr>\n",
       "    <tr>\n",
       "      <th>4</th>\n",
       "      <td>20</td>\n",
       "      <td>0</td>\n",
       "      <td>0</td>\n",
       "      <td>0</td>\n",
       "      <td>0</td>\n",
       "      <td>1</td>\n",
       "      <td>12</td>\n",
       "      <td>1</td>\n",
       "      <td>1</td>\n",
       "      <td>0</td>\n",
       "      <td>1</td>\n",
       "      <td>1</td>\n",
       "      <td>0</td>\n",
       "    </tr>\n",
       "  </tbody>\n",
       "</table>\n",
       "</div>"
      ],
      "text/plain": [
       "   Student_Age  Sex  High_School_Type  Additional_Work  Sports_activity  \\\n",
       "0           20    0                 1                1                0   \n",
       "1           20    0                 1                1                0   \n",
       "2           20    0                 1                0                0   \n",
       "3           18    1                 0                1                0   \n",
       "4           20    0                 0                0                0   \n",
       "\n",
       "   Transportation  Weekly_Study_Hours  Attendance  Reading  Notes  \\\n",
       "0               0                  12           1        1      1   \n",
       "1               0                  12           1        1      0   \n",
       "2               0                  12           0        0      0   \n",
       "3               1                  12           1        0      1   \n",
       "4               1                  12           1        1      0   \n",
       "\n",
       "   Listening_in_Class  Project_work  Grade  \n",
       "0                   0             0      0  \n",
       "1                   1             1      0  \n",
       "2                   0             1      0  \n",
       "3                   0             0      0  \n",
       "4                   1             1      0  "
      ]
     },
     "execution_count": 18,
     "metadata": {},
     "output_type": "execute_result"
    }
   ],
   "source": [
    "df.head()"
   ]
  },
  {
   "cell_type": "code",
   "execution_count": 19,
   "id": "8e37e1bf-3539-4054-b219-e71c76638232",
   "metadata": {},
   "outputs": [
    {
     "data": {
      "text/html": [
       "<div>\n",
       "<style scoped>\n",
       "    .dataframe tbody tr th:only-of-type {\n",
       "        vertical-align: middle;\n",
       "    }\n",
       "\n",
       "    .dataframe tbody tr th {\n",
       "        vertical-align: top;\n",
       "    }\n",
       "\n",
       "    .dataframe thead th {\n",
       "        text-align: right;\n",
       "    }\n",
       "</style>\n",
       "<table border=\"1\" class=\"dataframe\">\n",
       "  <thead>\n",
       "    <tr style=\"text-align: right;\">\n",
       "      <th></th>\n",
       "      <th>Sex</th>\n",
       "      <th>High_School_Type</th>\n",
       "      <th>Sports_activity</th>\n",
       "      <th>Weekly_Study_Hours</th>\n",
       "      <th>Attendance</th>\n",
       "      <th>Reading</th>\n",
       "      <th>Listening_in_Class</th>\n",
       "      <th>Project_work</th>\n",
       "      <th>Grade</th>\n",
       "    </tr>\n",
       "  </thead>\n",
       "  <tbody>\n",
       "    <tr>\n",
       "      <th>0</th>\n",
       "      <td>0</td>\n",
       "      <td>1</td>\n",
       "      <td>0</td>\n",
       "      <td>12</td>\n",
       "      <td>1</td>\n",
       "      <td>1</td>\n",
       "      <td>0</td>\n",
       "      <td>0</td>\n",
       "      <td>0</td>\n",
       "    </tr>\n",
       "    <tr>\n",
       "      <th>1</th>\n",
       "      <td>0</td>\n",
       "      <td>1</td>\n",
       "      <td>0</td>\n",
       "      <td>12</td>\n",
       "      <td>1</td>\n",
       "      <td>1</td>\n",
       "      <td>1</td>\n",
       "      <td>1</td>\n",
       "      <td>0</td>\n",
       "    </tr>\n",
       "    <tr>\n",
       "      <th>2</th>\n",
       "      <td>0</td>\n",
       "      <td>1</td>\n",
       "      <td>0</td>\n",
       "      <td>12</td>\n",
       "      <td>0</td>\n",
       "      <td>0</td>\n",
       "      <td>0</td>\n",
       "      <td>1</td>\n",
       "      <td>0</td>\n",
       "    </tr>\n",
       "    <tr>\n",
       "      <th>3</th>\n",
       "      <td>1</td>\n",
       "      <td>0</td>\n",
       "      <td>0</td>\n",
       "      <td>12</td>\n",
       "      <td>1</td>\n",
       "      <td>0</td>\n",
       "      <td>0</td>\n",
       "      <td>0</td>\n",
       "      <td>0</td>\n",
       "    </tr>\n",
       "    <tr>\n",
       "      <th>4</th>\n",
       "      <td>0</td>\n",
       "      <td>0</td>\n",
       "      <td>0</td>\n",
       "      <td>12</td>\n",
       "      <td>1</td>\n",
       "      <td>1</td>\n",
       "      <td>1</td>\n",
       "      <td>1</td>\n",
       "      <td>0</td>\n",
       "    </tr>\n",
       "    <tr>\n",
       "      <th>...</th>\n",
       "      <td>...</td>\n",
       "      <td>...</td>\n",
       "      <td>...</td>\n",
       "      <td>...</td>\n",
       "      <td>...</td>\n",
       "      <td>...</td>\n",
       "      <td>...</td>\n",
       "      <td>...</td>\n",
       "      <td>...</td>\n",
       "    </tr>\n",
       "    <tr>\n",
       "      <th>394</th>\n",
       "      <td>1</td>\n",
       "      <td>1</td>\n",
       "      <td>0</td>\n",
       "      <td>0</td>\n",
       "      <td>2</td>\n",
       "      <td>0</td>\n",
       "      <td>0</td>\n",
       "      <td>1</td>\n",
       "      <td>1</td>\n",
       "    </tr>\n",
       "    <tr>\n",
       "      <th>395</th>\n",
       "      <td>0</td>\n",
       "      <td>1</td>\n",
       "      <td>1</td>\n",
       "      <td>0</td>\n",
       "      <td>1</td>\n",
       "      <td>1</td>\n",
       "      <td>0</td>\n",
       "      <td>0</td>\n",
       "      <td>2</td>\n",
       "    </tr>\n",
       "    <tr>\n",
       "      <th>396</th>\n",
       "      <td>0</td>\n",
       "      <td>1</td>\n",
       "      <td>1</td>\n",
       "      <td>0</td>\n",
       "      <td>1</td>\n",
       "      <td>0</td>\n",
       "      <td>0</td>\n",
       "      <td>1</td>\n",
       "      <td>2</td>\n",
       "    </tr>\n",
       "    <tr>\n",
       "      <th>397</th>\n",
       "      <td>1</td>\n",
       "      <td>1</td>\n",
       "      <td>1</td>\n",
       "      <td>0</td>\n",
       "      <td>1</td>\n",
       "      <td>0</td>\n",
       "      <td>1</td>\n",
       "      <td>0</td>\n",
       "      <td>2</td>\n",
       "    </tr>\n",
       "    <tr>\n",
       "      <th>398</th>\n",
       "      <td>1</td>\n",
       "      <td>0</td>\n",
       "      <td>1</td>\n",
       "      <td>2</td>\n",
       "      <td>2</td>\n",
       "      <td>1</td>\n",
       "      <td>0</td>\n",
       "      <td>1</td>\n",
       "      <td>2</td>\n",
       "    </tr>\n",
       "  </tbody>\n",
       "</table>\n",
       "<p>399 rows × 9 columns</p>\n",
       "</div>"
      ],
      "text/plain": [
       "     Sex  High_School_Type  Sports_activity  Weekly_Study_Hours  Attendance  \\\n",
       "0      0                 1                0                  12           1   \n",
       "1      0                 1                0                  12           1   \n",
       "2      0                 1                0                  12           0   \n",
       "3      1                 0                0                  12           1   \n",
       "4      0                 0                0                  12           1   \n",
       "..   ...               ...              ...                 ...         ...   \n",
       "394    1                 1                0                   0           2   \n",
       "395    0                 1                1                   0           1   \n",
       "396    0                 1                1                   0           1   \n",
       "397    1                 1                1                   0           1   \n",
       "398    1                 0                1                   2           2   \n",
       "\n",
       "     Reading  Listening_in_Class  Project_work  Grade  \n",
       "0          1                   0             0      0  \n",
       "1          1                   1             1      0  \n",
       "2          0                   0             1      0  \n",
       "3          0                   0             0      0  \n",
       "4          1                   1             1      0  \n",
       "..       ...                 ...           ...    ...  \n",
       "394        0                   0             1      1  \n",
       "395        1                   0             0      2  \n",
       "396        0                   0             1      2  \n",
       "397        0                   1             0      2  \n",
       "398        1                   0             1      2  \n",
       "\n",
       "[399 rows x 9 columns]"
      ]
     },
     "execution_count": 19,
     "metadata": {},
     "output_type": "execute_result"
    }
   ],
   "source": [
    "# Assuming df is your DataFrame\n",
    "\n",
    "# Drop specified columns and assign the result to a new DataFrame df1\n",
    "df1 = df.drop(columns=['Student_Age','Additional_Work', 'Transportation','Notes'])\n",
    "\n",
    "# Print DataFrame to verify changes\n",
    "df1\n"
   ]
  },
  {
   "cell_type": "markdown",
   "id": "feb4ec4f-10dd-4d9a-81bb-da53a4055cdb",
   "metadata": {},
   "source": [
    "## Model Accuracy check"
   ]
  },
  {
   "cell_type": "markdown",
   "id": "af8658e6-48ef-453e-a76b-13a6cb890dbf",
   "metadata": {},
   "source": [
    "## 1) Using SVM(Support Vector Regrassion"
   ]
  },
  {
   "cell_type": "code",
   "execution_count": 20,
   "id": "32a96f0b-f102-4eaa-834a-0e202b119a01",
   "metadata": {},
   "outputs": [
    {
     "name": "stdout",
     "output_type": "stream",
     "text": [
      "Mean Squared Error: 0.4972257395580332\n",
      "Root Mean Squared Error (RMSE): 0.7051423541087524\n",
      "R-squared (R^2) Value: 0.1912973994481798\n",
      "Accuracy: 0.8047253806050205\n"
     ]
    }
   ],
   "source": [
    "from sklearn.model_selection import train_test_split\n",
    "from sklearn.svm import SVR\n",
    "from sklearn.metrics import mean_squared_error, r2_score\n",
    "\n",
    "# Split the data into features (X) and target variable (y)\n",
    "X = df1.drop('Grade', axis=1)  # Features\n",
    "y = df1['Grade']  # Target variable\n",
    "\n",
    "# Split the data into training and test sets\n",
    "X_train, X_test, y_train, y_test = train_test_split(X, y, test_size=0.2, random_state=42)\n",
    "\n",
    "# Train the Support Vector Machine model\n",
    "svm_model = SVR(kernel='linear')  # You can adjust the kernel parameter\n",
    "svm_model.fit(X_train, y_train)\n",
    "\n",
    "# Make predictions on the test data\n",
    "y_pred = svm_model.predict(X_test)\n",
    "\n",
    "# Evaluate the model\n",
    "mse = mean_squared_error(y_test, y_pred)\n",
    "print(\"Mean Squared Error:\", mse)\n",
    "rmse = np.sqrt(mean_squared_error(y_test, y_pred))\n",
    "print(\"Root Mean Squared Error (RMSE):\", rmse)\n",
    "\n",
    "# Calculate R-squared\n",
    "r2 = r2_score(y_test, y_pred)\n",
    "print(\"R-squared (R^2) Value:\", r2)\n",
    "\n",
    "# Calculate accuracy metrics\n",
    "accuracy_rmse = 1 / rmse\n",
    "accuracy_r2 = r2\n",
    "\n",
    "# Weighted average of both accuracy measures (adjust weights as needed)\n",
    "accuracy_svm = (accuracy_rmse + accuracy_r2) / 2\n",
    "print(\"Accuracy:\", accuracy_svm)\n"
   ]
  },
  {
   "cell_type": "code",
   "execution_count": 21,
   "id": "f0c794ac-a479-4f61-a5d9-3c090137f8e3",
   "metadata": {},
   "outputs": [
    {
     "name": "stdout",
     "output_type": "stream",
     "text": [
      "Mean Squared Error: 0.4972257395580332\n",
      "Root Mean Squared Error (RMSE): 0.7051423541087524\n",
      "R-squared (R^2) Value: 0.1912973994481798\n",
      "Accuracy: 0.8047253806050205\n"
     ]
    },
    {
     "data": {
      "image/png": "[encoded data removed]",
      "text/plain": [
       "<Figure size 1000x600 with 1 Axes>"
      ]
     },
     "metadata": {},
     "output_type": "display_data"
    },
    {
     "name": "stdout",
     "output_type": "stream",
     "text": [
      "Training Time: 0.030954837799072266 seconds\n",
      "Testing Time: 0.0019989013671875 seconds\n"
     ]
    }
   ],
   "source": [
    "import time\n",
    "import matplotlib.pyplot as plt\n",
    "import numpy as np\n",
    "\n",
    "# Measure training time\n",
    "start_time = time.time()\n",
    "svm_model.fit(X_train, y_train)\n",
    "training_time = time.time() - start_time\n",
    "\n",
    "# Measure testing time\n",
    "start_time = time.time()\n",
    "y_pred = svm_model.predict(X_test)\n",
    "testing_time = time.time() - start_time\n",
    "\n",
    "# Evaluate the model\n",
    "mse = mean_squared_error(y_test, y_pred)\n",
    "print(\"Mean Squared Error:\", mse)\n",
    "rmse = np.sqrt(mse)\n",
    "print(\"Root Mean Squared Error (RMSE):\", rmse)\n",
    "\n",
    "# Calculate R-squared\n",
    "r2 = r2_score(y_test, y_pred)\n",
    "print(\"R-squared (R^2) Value:\", r2)\n",
    "\n",
    "# Calculate accuracy metrics\n",
    "accuracy_rmse = 1 / rmse\n",
    "accuracy_r2 = r2\n",
    "\n",
    "# Weighted average of both accuracy measures (adjust weights as needed)\n",
    "accuracy = (accuracy_rmse + accuracy_r2) / 2\n",
    "print(\"Accuracy:\", accuracy)\n",
    "\n",
    "# Plotting accuracy graph\n",
    "plt.figure(figsize=(10, 6))\n",
    "plt.bar(range(len(y_test)), y_test, color='blue', alpha=0.5, label='Actual')\n",
    "plt.bar(range(len(y_pred)), y_pred, color='red', alpha=0.5, label='Predicted')\n",
    "plt.title('Actual vs Predicted Grades')\n",
    "plt.xlabel('Sample')\n",
    "plt.ylabel('Grade')\n",
    "plt.legend()\n",
    "plt.show()\n",
    "\n",
    "# Print training and testing time\n",
    "print(\"Training Time:\", training_time, \"seconds\")\n",
    "print(\"Testing Time:\", testing_time, \"seconds\")\n"
   ]
  },
  {
   "cell_type": "markdown",
   "id": "6d032b40-b224-4430-be79-ba22f930830b",
   "metadata": {},
   "source": [
    "## 2) Using Lasso Regrassion"
   ]
  },
  {
   "cell_type": "code",
   "execution_count": 22,
   "id": "b1a66560-f54f-4c0d-9063-66d7f50bc0f3",
   "metadata": {},
   "outputs": [
    {
     "name": "stdout",
     "output_type": "stream",
     "text": [
      "Mean Squared Error: 0.46550423782684114\n",
      "Root Mean Squared Error (RMSE): 0.6822787097857013\n",
      "R-squared (R^2) Value: 0.2428901849830284\n",
      "Accuracy: 0.8542834367468206\n"
     ]
    }
   ],
   "source": [
    "from sklearn.model_selection import train_test_split\n",
    "from sklearn.linear_model import Lasso\n",
    "from sklearn.metrics import mean_squared_error,r2_score\n",
    "\n",
    "# Assuming df is your DataFrame with features and target variable\n",
    "\n",
    "# Split the data into features (X) and target variable (y)\n",
    "X = df1.drop('Grade', axis=1)  # Features\n",
    "y = df1['Grade']  # Target variable\n",
    "\n",
    "# Split the data into training and test sets\n",
    "X_train, X_test, y_train, y_test = train_test_split(X, y, test_size=0.2, random_state=42)\n",
    "\n",
    "# Train the Lasso Regression model\n",
    "lasso_model = Lasso(alpha=0.1)  # You can adjust the alpha parameter\n",
    "lasso_model.fit(X_train, y_train)\n",
    "\n",
    "# Make predictions on the test data\n",
    "y_pred = lasso_model.predict(X_test)\n",
    "\n",
    "# Evaluate the model\n",
    "mse = mean_squared_error(y_test, y_pred)\n",
    "print(\"Mean Squared Error:\", mse)\n",
    "rmse = np.sqrt(mean_squared_error(y_test, y_pred))\n",
    "print(\"Root Mean Squared Error (RMSE):\", rmse)\n",
    "\n",
    "# Calculate R-squared\n",
    "r2 = r2_score(y_test, y_pred)\n",
    "print(\"R-squared (R^2) Value:\", r2)\n",
    "\n",
    "\n",
    "accuracy_rmse = 1 / rmse\n",
    "accuracy_r2 = r2\n",
    "    \n",
    "    # Weighted average of both accuracy measures (adjust weights as needed)\n",
    "accuracy_lasso = (accuracy_rmse + accuracy_r2) / 2\n",
    "print(\"Accuracy:\", accuracy_lasso)"
   ]
  },
  {
   "cell_type": "code",
   "execution_count": 23,
   "id": "a5d1e53d-b57b-4685-921e-b0f7c7ea78d5",
   "metadata": {
    "scrolled": true
   },
   "outputs": [
    {
     "name": "stdout",
     "output_type": "stream",
     "text": [
      "Mean Squared Error: 0.46550423782684114\n",
      "Root Mean Squared Error (RMSE): 0.6822787097857013\n",
      "R-squared (R^2) Value: 0.2428901849830284\n",
      "Accuracy: 0.8542834367468206\n"
     ]
    },
    {
     "data": {
      "image/png": "[encoded data removed]",
      "text/plain": [
       "<Figure size 1000x600 with 1 Axes>"
      ]
     },
     "metadata": {},
     "output_type": "display_data"
    },
    {
     "name": "stdout",
     "output_type": "stream",
     "text": [
      "Training Time: 0.0 seconds\n",
      "Testing Time: 0.0 seconds\n"
     ]
    }
   ],
   "source": [
    "import time\n",
    "import matplotlib.pyplot as plt\n",
    "\n",
    "# Measure training time\n",
    "start_time = time.time()\n",
    "lasso_model.fit(X_train, y_train)\n",
    "training_time = time.time() - start_time\n",
    "\n",
    "# Measure testing time\n",
    "start_time = time.time()\n",
    "y_pred = lasso_model.predict(X_test)\n",
    "testing_time = time.time() - start_time\n",
    "\n",
    "# Evaluate the model\n",
    "mse = mean_squared_error(y_test, y_pred)\n",
    "print(\"Mean Squared Error:\", mse)\n",
    "rmse = np.sqrt(mse)\n",
    "print(\"Root Mean Squared Error (RMSE):\", rmse)\n",
    "\n",
    "# Calculate R-squared\n",
    "r2 = r2_score(y_test, y_pred)\n",
    "print(\"R-squared (R^2) Value:\", r2)\n",
    "\n",
    "# Calculate accuracy metrics\n",
    "accuracy_rmse = 1 / rmse\n",
    "accuracy_r2 = r2\n",
    "\n",
    "# Weighted average of both accuracy measures (adjust weights as needed)\n",
    "accuracy = (accuracy_rmse + accuracy_r2) / 2\n",
    "print(\"Accuracy:\", accuracy)\n",
    "\n",
    "# Plotting accuracy graph\n",
    "plt.figure(figsize=(10, 6))\n",
    "plt.bar(range(len(y_test)), y_test, color='blue', alpha=0.5, label='Actual')\n",
    "plt.bar(range(len(y_pred)), y_pred, color='red', alpha=0.5, label='Predicted')\n",
    "plt.title('Actual vs Predicted Grades')\n",
    "plt.xlabel('Sample')\n",
    "plt.ylabel('Grade')\n",
    "plt.legend()\n",
    "plt.show()\n",
    "\n",
    "# Print training and testing time\n",
    "print(\"Training Time:\", training_time, \"seconds\")\n",
    "print(\"Testing Time:\", testing_time, \"seconds\")"
   ]
  },
  {
   "cell_type": "markdown",
   "id": "501853dd-c084-4a3f-87d9-5d56cb027564",
   "metadata": {},
   "source": [
    "## 3) Using Linear Regrassion"
   ]
  },
  {
   "cell_type": "code",
   "execution_count": 24,
   "id": "67938205-2102-47b3-96c1-da805acdae60",
   "metadata": {},
   "outputs": [
    {
     "name": "stdout",
     "output_type": "stream",
     "text": [
      "Mean Squared Error: 0.40752679742028947\n",
      "Root Mean Squared Error (RMSE): 0.6383782557546032\n",
      "R-squared (R^2) Value: 0.3371864031791989\n",
      "Accuracy: 0.9518278990323696\n"
     ]
    }
   ],
   "source": [
    "from sklearn.model_selection import train_test_split\n",
    "from sklearn.linear_model import LinearRegression\n",
    "from sklearn.metrics import mean_squared_error,r2_score\n",
    "# Assuming df is your DataFrame\n",
    "\n",
    "# Prepare the data\n",
    "X = df1.drop('Grade', axis=1)  # Features (independent variables)\n",
    "y = df1['Grade']                # Target variable (dependent variable)\n",
    "\n",
    "# Split the data into training and testing sets\n",
    "X_train, X_test, y_train, y_test = train_test_split(X, y, test_size=0.2, random_state=42)\n",
    "\n",
    "# Train the model\n",
    "model = LinearRegression()\n",
    "model.fit(X_train, y_train)\n",
    "\n",
    "# Make predictions\n",
    "y_pred = model.predict(X_test)\n",
    "\n",
    "# Evaluate the model\n",
    "mse = mean_squared_error(y_test, y_pred)\n",
    "print(\"Mean Squared Error:\", mse)\n",
    "rmse = np.sqrt(mean_squared_error(y_test, y_pred))\n",
    "print(\"Root Mean Squared Error (RMSE):\", rmse)\n",
    "\n",
    "# Calculate R-squared\n",
    "r2 = r2_score(y_test, y_pred)\n",
    "print(\"R-squared (R^2) Value:\", r2)\n",
    "\n",
    "\n",
    "accuracy_rmse = 1 / rmse\n",
    "accuracy_r2 = r2\n",
    "    \n",
    "    # Weighted average of both accuracy measures (adjust weights as needed)\n",
    "accuracy_lr = (accuracy_rmse + accuracy_r2) / 2\n",
    "print(\"Accuracy:\", accuracy_lr)"
   ]
  },
  {
   "cell_type": "code",
   "execution_count": 25,
   "id": "85660fa5-73b1-470a-97fd-499f0f1b4a6c",
   "metadata": {},
   "outputs": [
    {
     "name": "stdout",
     "output_type": "stream",
     "text": [
      "Mean Squared Error: 0.40752679742028947\n",
      "Root Mean Squared Error (RMSE): 0.6383782557546032\n",
      "R-squared (R^2) Value: 0.3371864031791989\n",
      "Accuracy: 0.9518278990323696\n"
     ]
    },
    {
     "data": {
      "image/png": "[encoded data removed]",
      "text/plain": [
       "<Figure size 1000x600 with 1 Axes>"
      ]
     },
     "metadata": {},
     "output_type": "display_data"
    },
    {
     "name": "stdout",
     "output_type": "stream",
     "text": [
      "Training Time: 0.003998517990112305 seconds\n",
      "Testing Time: 0.0010006427764892578 seconds\n"
     ]
    }
   ],
   "source": [
    "import time\n",
    "import matplotlib.pyplot as plt\n",
    "\n",
    "# Measure training time\n",
    "start_time = time.time()\n",
    "model.fit(X_train, y_train)\n",
    "training_time = time.time() - start_time\n",
    "\n",
    "# Measure testing time\n",
    "start_time = time.time()\n",
    "y_pred = model.predict(X_test)\n",
    "testing_time = time.time() - start_time\n",
    "\n",
    "# Evaluate the model\n",
    "mse = mean_squared_error(y_test, y_pred)\n",
    "print(\"Mean Squared Error:\", mse)\n",
    "rmse = np.sqrt(mse)\n",
    "print(\"Root Mean Squared Error (RMSE):\", rmse)\n",
    "\n",
    "# Calculate R-squared\n",
    "r2 = r2_score(y_test, y_pred)\n",
    "print(\"R-squared (R^2) Value:\", r2)\n",
    "\n",
    "# Calculate accuracy metrics\n",
    "accuracy_rmse = 1 / rmse\n",
    "accuracy_r2 = r2\n",
    "\n",
    "# Weighted average of both accuracy measures (adjust weights as needed)\n",
    "accuracy = (accuracy_rmse + accuracy_r2) / 2\n",
    "print(\"Accuracy:\", accuracy)\n",
    "\n",
    "# Plotting accuracy graph\n",
    "plt.figure(figsize=(10, 6))\n",
    "plt.bar(range(len(y_test)), y_test, color='blue', alpha=0.5, label='Actual')\n",
    "plt.bar(range(len(y_pred)), y_pred, color='red', alpha=0.5, label='Predicted')\n",
    "plt.title('Actual vs Predicted Grades')\n",
    "plt.xlabel('Sample')\n",
    "plt.ylabel('Grade')\n",
    "plt.legend()\n",
    "plt.show()\n",
    "\n",
    "# Print training and testing time\n",
    "print(\"Training Time:\", training_time, \"seconds\")\n",
    "print(\"Testing Time:\", testing_time, \"seconds\")\n"
   ]
  },
  {
   "cell_type": "markdown",
   "id": "a4fef67c-1270-4554-9bd6-88c53b02d97b",
   "metadata": {},
   "source": [
    "### Comparison between three models"
   ]
  },
  {
   "cell_type": "code",
   "execution_count": 26,
   "id": "317c5767-f7d4-4c8b-b835-5ec292241ad6",
   "metadata": {},
   "outputs": [
    {
     "data": {
      "image/png": "[encoded data removed]",
      "text/plain": [
       "<Figure size 640x480 with 1 Axes>"
      ]
     },
     "metadata": {},
     "output_type": "display_data"
    }
   ],
   "source": [
    "models = ['SVM', 'Lasso Regression', 'Linear Regression']\n",
    "accuracies = [accuracy_svm, accuracy_lasso, accuracy_lr]\n",
    "\n",
    "plt.bar(models, accuracies, color=['blue', 'green', 'red'])\n",
    "plt.xlabel('Models')\n",
    "plt.ylabel('Accuracy')\n",
    "plt.title('Comparison of Model Accuracies')\n",
    "plt.show()\n"
   ]
  },
  {
   "cell_type": "code",
   "execution_count": 27,
   "id": "a41bbe60-55e8-4db5-8b77-0305b63a896e",
   "metadata": {},
   "outputs": [
    {
     "name": "stdin",
     "output_type": "stream",
     "text": [
      "Enter your Gender (0 for male, 1 for female):  000\n",
      "Enter school Type (0 :Private, 1:State):  \n"
     ]
    },
    {
     "ename": "ValueError",
     "evalue": "could not convert string to float: ''",
     "output_type": "error",
     "traceback": [
      "\u001b[1;31m---------------------------------------------------------------------------\u001b[0m",
      "\u001b[1;31mValueError\u001b[0m                                Traceback (most recent call last)",
      "Cell \u001b[1;32mIn[27], line 53\u001b[0m\n\u001b[0;32m     50\u001b[0m     \u001b[38;5;28mprint\u001b[39m(\u001b[38;5;124m\"\u001b[39m\u001b[38;5;124mThe student is predicted to get grade:\u001b[39m\u001b[38;5;124m\"\u001b[39m, grade)\n\u001b[0;32m     52\u001b[0m \u001b[38;5;66;03m# Predict for user input\u001b[39;00m\n\u001b[1;32m---> 53\u001b[0m \u001b[43mpredict_student_performance\u001b[49m\u001b[43m(\u001b[49m\u001b[43m)\u001b[49m\n",
      "Cell \u001b[1;32mIn[27], line 38\u001b[0m, in \u001b[0;36mpredict_student_performance\u001b[1;34m()\u001b[0m\n\u001b[0;32m     36\u001b[0m \u001b[38;5;28;01mdef\u001b[39;00m \u001b[38;5;21mpredict_student_performance\u001b[39m():\n\u001b[0;32m     37\u001b[0m     Sex \u001b[38;5;241m=\u001b[39m \u001b[38;5;28mfloat\u001b[39m(\u001b[38;5;28minput\u001b[39m(\u001b[38;5;124m\"\u001b[39m\u001b[38;5;124mEnter your Gender (0 for male, 1 for female): \u001b[39m\u001b[38;5;124m\"\u001b[39m))\n\u001b[1;32m---> 38\u001b[0m     High_School_Type  \u001b[38;5;241m=\u001b[39m \u001b[38;5;28;43mfloat\u001b[39;49m\u001b[43m(\u001b[49m\u001b[38;5;28;43minput\u001b[39;49m\u001b[43m(\u001b[49m\u001b[38;5;124;43m\"\u001b[39;49m\u001b[38;5;124;43mEnter school Type (0 :Private, 1:State): \u001b[39;49m\u001b[38;5;124;43m\"\u001b[39;49m\u001b[43m)\u001b[49m\u001b[43m)\u001b[49m\n\u001b[0;32m     39\u001b[0m     Sports_activity \u001b[38;5;241m=\u001b[39m \u001b[38;5;28mfloat\u001b[39m(\u001b[38;5;28minput\u001b[39m(\u001b[38;5;124m\"\u001b[39m\u001b[38;5;124mEnter Sport activity(0:No, 1:Yes ): \u001b[39m\u001b[38;5;124m\"\u001b[39m))\n\u001b[0;32m     40\u001b[0m     Weekly_Study_Hours \u001b[38;5;241m=\u001b[39m \u001b[38;5;28mfloat\u001b[39m(\u001b[38;5;28minput\u001b[39m(\u001b[38;5;124m\"\u001b[39m\u001b[38;5;124mEnter weekly study times(0 to 12): \u001b[39m\u001b[38;5;124m\"\u001b[39m))\n",
      "\u001b[1;31mValueError\u001b[0m: could not convert string to float: ''"
     ]
    }
   ],
   "source": [
    "##### Prediction function\n",
    "def train_and_predict_grade(df1, features):\n",
    "    # Prepare the data\n",
    "    X = df1[features]  # Features\n",
    "    y = df1['Grade']   # Target variable\n",
    "    \n",
    "    \n",
    "    # Train the model\n",
    "    model = LinearRegression()\n",
    "    model.fit(X, y)  # Fit on the entire dataset\n",
    "    \n",
    "    # Function to predict Grade based on features\n",
    "    def predict_grade(features_values):\n",
    "        return model.predict([features_values])[0]\n",
    "    \n",
    "    return predict_grade\n",
    "\n",
    "# Convert to grade as A, B, C, or D\n",
    "def convert_to_grade(predicted_grade):\n",
    "    if predicted_grade > 1:\n",
    "        return 'A'\n",
    "    elif predicted_grade < 1.5:\n",
    "        return 'B'\n",
    "    elif predicted_grade < 2:\n",
    "        return 'C'\n",
    "    else:\n",
    "        return 'D'\n",
    "\n",
    "# Example usage:\n",
    "# Assuming df is the DataFrame containing the data\n",
    "features = ['Sex', 'High_School_Type', 'Sports_activity', 'Weekly_Study_Hours', 'Attendance', 'Reading', 'Listening_in_Class', 'Project_work']\n",
    "\n",
    "predict_grade_function = train_and_predict_grade(df1, features)\n",
    "\n",
    "# User Input function\n",
    "def predict_student_performance():\n",
    "    Sex = float(input(\"Enter your Gender (0 for male, 1 for female): \"))\n",
    "    High_School_Type  = float(input(\"Enter school Type (0 :Private, 1:State): \"))\n",
    "    Sports_activity = float(input(\"Enter Sport activity(0:No, 1:Yes ): \"))\n",
    "    Weekly_Study_Hours = float(input(\"Enter weekly study times(0 to 12): \"))\n",
    "    Attendance = float(input(\"Attend class (1:Always, 0:Never, 2:Sometimes) :  \"))\n",
    "    Reading = float(input(\"Have the student read in class (0 for No, 1 for Yes): \"))\n",
    "    Listening_in_Class = float(input(\"Have the student Listen in class (0 for No, 1 for Yes): \"))\n",
    "    Project_work = float(input(\"Have the student working  in project (0 for No, 1 for Yes): \"))\n",
    "\n",
    "    # Make prediction\n",
    "    predicted_grade = predict_grade_function([Sex, High_School_Type, Sports_activity, Weekly_Study_Hours, Attendance, Reading, Listening_in_Class, Project_work])\n",
    "    grade = convert_to_grade(predicted_grade)\n",
    "\n",
    "    print(\"The student is predicted to get grade:\", grade)\n",
    "\n",
    "# Predict for user input\n",
    "predict_student_performance()\n"
   ]
  },
  {
   "cell_type": "code",
   "execution_count": null,
   "id": "244216c9-8c63-499c-9e1a-e61533dddcd4",
   "metadata": {},
   "outputs": [],
   "source": [
    "import pickle\n",
    "\n",
    "# Assuming 'model' and 'features' are defined\n",
    "# Open the file for writing in binary mode\n",
    "with open('Grade_prediction.pickle', 'wb') as f:\n",
    "    # Use pickle.dump() to serialize the 'model' and 'features' objects to the file\n",
    "    pickle.dump((model, features), f)\n"
   ]
  },
  {
   "cell_type": "code",
   "execution_count": null,
   "id": "b2ef8b9d-59dc-46a3-af85-3cc0452b2e8e",
   "metadata": {},
   "outputs": [],
   "source": []
  }
 ],
 "metadata": {
  "kernelspec": {
   "display_name": "Python 3 (ipykernel)",
   "language": "python",
   "name": "python3"
  },
  "language_info": {
   "codemirror_mode": {
    "name": "ipython",
    "version": 3
   },
   "file_extension": ".py",
   "mimetype": "text/x-python",
   "name": "python",
   "nbconvert_exporter": "python",
   "pygments_lexer": "ipython3",
   "version": "3.11.4"
  },
  "papermill": {
   "default_parameters": {},
   "duration": 128.986008,
   "end_time": "2023-08-06T14:38:21.345920",
   "environment_variables": {},
   "exception": null,
   "input_path": "__notebook__.ipynb",
   "output_path": "__notebook__.ipynb",
   "parameters": {},
   "start_time": "2023-08-06T14:36:12.359912",
   "version": "2.4.0"
  }
 },
 "nbformat": 4,
 "nbformat_minor": 5
}
